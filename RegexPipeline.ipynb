{
 "cells": [
  {
   "cell_type": "code",
   "execution_count": 72,
   "metadata": {},
   "outputs": [],
   "source": [
    "import pandas as pd\n",
    "import numpy as np\n",
    "import re"
   ]
  },
  {
   "cell_type": "code",
   "execution_count": 73,
   "metadata": {},
   "outputs": [],
   "source": [
    "filepath = '/Users/adamklie/Desktop/FA 2019/MED 277/project/results/mortality_unstructured_ALL_notes.csv'\n",
    "notes_df = pd.read_csv(filepath, na_filter=False)"
   ]
  },
  {
   "cell_type": "code",
   "execution_count": 74,
   "metadata": {},
   "outputs": [],
   "source": [
    "filepath = '/Users/adamklie/Desktop/FA 2019/MED 277/project/results/dataset.csv'\n",
    "structured_df = pd.read_csv(filepath, na_filter=False)"
   ]
  },
  {
   "cell_type": "markdown",
   "metadata": {},
   "source": [
    "#### Check structured data first"
   ]
  },
  {
   "cell_type": "code",
   "execution_count": 75,
   "metadata": {},
   "outputs": [
    {
     "data": {
      "text/html": [
       "<div>\n",
       "<style scoped>\n",
       "    .dataframe tbody tr th:only-of-type {\n",
       "        vertical-align: middle;\n",
       "    }\n",
       "\n",
       "    .dataframe tbody tr th {\n",
       "        vertical-align: top;\n",
       "    }\n",
       "\n",
       "    .dataframe thead th {\n",
       "        text-align: right;\n",
       "    }\n",
       "</style>\n",
       "<table border=\"1\" class=\"dataframe\">\n",
       "  <thead>\n",
       "    <tr style=\"text-align: right;\">\n",
       "      <th></th>\n",
       "      <th>Unnamed: 0</th>\n",
       "      <th>X</th>\n",
       "      <th>SUBJECT_ID</th>\n",
       "      <th>HADM_ID</th>\n",
       "      <th>CHARTDATE</th>\n",
       "      <th>CHARTTIME</th>\n",
       "      <th>SPEC_TYPE_DESC</th>\n",
       "      <th>ORG_NAME</th>\n",
       "      <th>DOB</th>\n",
       "      <th>DOD</th>\n",
       "      <th>...</th>\n",
       "      <th>MARITAL_STATUS</th>\n",
       "      <th>ETHNICITY</th>\n",
       "      <th>DIAGNOSIS</th>\n",
       "      <th>INDWELLING_CATHETERS</th>\n",
       "      <th>IV_DRUG_USE</th>\n",
       "      <th>DIABETIC</th>\n",
       "      <th>RECENT_SURGERY</th>\n",
       "      <th>IMMUNOSUPRESSION</th>\n",
       "      <th>HYPERALIMENTATION</th>\n",
       "      <th>STRUCTURED_DATA_FUNGAL_ENDOPHTHALMITITS</th>\n",
       "    </tr>\n",
       "  </thead>\n",
       "  <tbody>\n",
       "    <tr>\n",
       "      <th>89</th>\n",
       "      <td>90</td>\n",
       "      <td>90</td>\n",
       "      <td>12796</td>\n",
       "      <td>118237</td>\n",
       "      <td>2186-01-18 00:00:00</td>\n",
       "      <td>2186-01-18 14:37:00</td>\n",
       "      <td>FLUID RECEIVED IN BLOOD CULTURE BOTTLES</td>\n",
       "      <td>CANDIDA ALBICANS</td>\n",
       "      <td>2156-09-21 00:00:00</td>\n",
       "      <td>2186-01-23 00:00:00</td>\n",
       "      <td>...</td>\n",
       "      <td>SINGLE</td>\n",
       "      <td>WHITE</td>\n",
       "      <td>SPONTANEOUS BACTERIAL PERITONITIS</td>\n",
       "      <td>0</td>\n",
       "      <td>0</td>\n",
       "      <td>0</td>\n",
       "      <td>1</td>\n",
       "      <td>0</td>\n",
       "      <td>0</td>\n",
       "      <td>1</td>\n",
       "    </tr>\n",
       "    <tr>\n",
       "      <th>138</th>\n",
       "      <td>139</td>\n",
       "      <td>139</td>\n",
       "      <td>19620</td>\n",
       "      <td>183777</td>\n",
       "      <td>2168-05-19 00:00:00</td>\n",
       "      <td>2168-05-19 15:00:00</td>\n",
       "      <td>BLOOD CULTURE ( MYCO/F LYTIC BOTTLE)</td>\n",
       "      <td>CANDIDA ALBICANS, PRESUMPTIVE IDENTIFICATION</td>\n",
       "      <td>2120-09-25 00:00:00</td>\n",
       "      <td>2168-05-19 00:00:00</td>\n",
       "      <td>...</td>\n",
       "      <td>SINGLE</td>\n",
       "      <td>WHITE</td>\n",
       "      <td>SEPSIS</td>\n",
       "      <td>1</td>\n",
       "      <td>0</td>\n",
       "      <td>1</td>\n",
       "      <td>1</td>\n",
       "      <td>0</td>\n",
       "      <td>0</td>\n",
       "      <td>1</td>\n",
       "    </tr>\n",
       "  </tbody>\n",
       "</table>\n",
       "<p>2 rows × 28 columns</p>\n",
       "</div>"
      ],
      "text/plain": [
       "     Unnamed: 0    X  SUBJECT_ID  HADM_ID            CHARTDATE  \\\n",
       "89           90   90       12796   118237  2186-01-18 00:00:00   \n",
       "138         139  139       19620   183777  2168-05-19 00:00:00   \n",
       "\n",
       "               CHARTTIME                           SPEC_TYPE_DESC  \\\n",
       "89   2186-01-18 14:37:00  FLUID RECEIVED IN BLOOD CULTURE BOTTLES   \n",
       "138  2168-05-19 15:00:00     BLOOD CULTURE ( MYCO/F LYTIC BOTTLE)   \n",
       "\n",
       "                                         ORG_NAME                  DOB  \\\n",
       "89                               CANDIDA ALBICANS  2156-09-21 00:00:00   \n",
       "138  CANDIDA ALBICANS, PRESUMPTIVE IDENTIFICATION  2120-09-25 00:00:00   \n",
       "\n",
       "                     DOD  ...  MARITAL_STATUS ETHNICITY  \\\n",
       "89   2186-01-23 00:00:00  ...          SINGLE     WHITE   \n",
       "138  2168-05-19 00:00:00  ...          SINGLE     WHITE   \n",
       "\n",
       "                             DIAGNOSIS INDWELLING_CATHETERS IV_DRUG_USE  \\\n",
       "89   SPONTANEOUS BACTERIAL PERITONITIS                    0           0   \n",
       "138                             SEPSIS                    1           0   \n",
       "\n",
       "    DIABETIC RECENT_SURGERY IMMUNOSUPRESSION HYPERALIMENTATION  \\\n",
       "89         0              1                0                 0   \n",
       "138        1              1                0                 0   \n",
       "\n",
       "    STRUCTURED_DATA_FUNGAL_ENDOPHTHALMITITS  \n",
       "89                                        1  \n",
       "138                                       1  \n",
       "\n",
       "[2 rows x 28 columns]"
      ]
     },
     "execution_count": 75,
     "metadata": {},
     "output_type": "execute_result"
    }
   ],
   "source": [
    "fe_patients = structured_df[structured_df['STRUCTURED_DATA_FUNGAL_ENDOPHTHALMITITS'] == 1]['SUBJECT_ID'].values\n",
    "structured_df[structured_df[\"SUBJECT_ID\"].isin(fe_patients)]"
   ]
  },
  {
   "cell_type": "code",
   "execution_count": 76,
   "metadata": {},
   "outputs": [
    {
     "data": {
      "text/plain": [
       "(45, 28)"
      ]
     },
     "execution_count": 76,
     "metadata": {},
     "output_type": "execute_result"
    }
   ],
   "source": [
    "structured_notes_df = notes_df[notes_df[\"SUBJECT_ID\"].isin(fe_patients)]\n",
    "structured_notes_df.shape"
   ]
  },
  {
   "cell_type": "code",
   "execution_count": 77,
   "metadata": {},
   "outputs": [],
   "source": [
    "# Regular expressions to check\n",
    "fungal_endo = 'fungal endophthalmitis'\n",
    "fungal_endo_misspelling = 'fungal endopthalmitis'\n",
    "fungal_ocular_involvement = 'fungal ocular involvement'\n",
    "full = 'ophth|opth|eye|ocul|retina|fundus|dilat|endophthalmitis|chorioretinitis|vitritis'\n",
    "full_minus = 'ophth|opth|ocul|retina|fundus|endophthalmitis|chorioretinitis|vitritis'"
   ]
  },
  {
   "cell_type": "code",
   "execution_count": 78,
   "metadata": {},
   "outputs": [],
   "source": [
    "regex = re.compile(full_minus)\n",
    "pos_table = {}\n",
    "for index, row in structured_notes_df.iterrows():\n",
    "    note_text = row['TEXT']\n",
    "    is_match = regex.search(note_text)\n",
    "    if is_match != None:\n",
    "        subject_id = row['SUBJECT_ID']\n",
    "        text = note_text[is_match.start()-5:is_match.end()+5]\n",
    "        pos_table.setdefault(subject_id, '')\n",
    "        pos_table[subject_id] = pos_table[subject_id] + text"
   ]
  },
  {
   "cell_type": "code",
   "execution_count": 79,
   "metadata": {},
   "outputs": [
    {
     "data": {
      "text/plain": [
       "{19620: 'neuroophthalmol'}"
      ]
     },
     "execution_count": 79,
     "metadata": {},
     "output_type": "execute_result"
    }
   ],
   "source": [
    "pos_table"
   ]
  },
  {
   "cell_type": "markdown",
   "metadata": {},
   "source": [
    "#### Check notes for regular expressions"
   ]
  },
  {
   "cell_type": "code",
   "execution_count": 104,
   "metadata": {},
   "outputs": [
    {
     "data": {
      "text/plain": [
       "(683, 28)"
      ]
     },
     "execution_count": 104,
     "metadata": {},
     "output_type": "execute_result"
    }
   ],
   "source": [
    "notes = notes_df['TEXT']\n",
    "fe_mask = notes.str.contains(full_minus, regex = True)\n",
    "notes_df[fe_mask].shape"
   ]
  },
  {
   "cell_type": "code",
   "execution_count": 100,
   "metadata": {},
   "outputs": [
    {
     "name": "stdout",
     "output_type": "stream",
     "text": [
      "CPU times: user 3.3 s, sys: 13.1 ms, total: 3.31 s\n",
      "Wall time: 3.35 s\n"
     ]
    }
   ],
   "source": [
    "%%time\n",
    "regex = re.compile(full_minus)\n",
    "pos_table = {}\n",
    "note_dict = {}\n",
    "for index, row in notes_df.iterrows():\n",
    "    note_text = row['TEXT']\n",
    "    is_match = regex.search(note_text)\n",
    "    if is_match != None:\n",
    "        subject_id = row['SUBJECT_ID']\n",
    "        text = note_text[is_match.start()-100:is_match.end()+100]\n",
    "        pos_table.setdefault(subject_id, []).append(text)\n",
    "        note_dict.setdefault(subject_id, '')\n",
    "        note_dict[subject_id] = note_dict[subject_id] + note_text + '\\n'"
   ]
  },
  {
   "cell_type": "code",
   "execution_count": 101,
   "metadata": {},
   "outputs": [],
   "source": [
    "surrounding_text_df = pd.DataFrame(pos_table.values(), index = pos_table.keys())\n",
    "note_dict_df = pd.DataFrame(note_dict.values(), index = note_dict.keys())"
   ]
  },
  {
   "cell_type": "code",
   "execution_count": 103,
   "metadata": {},
   "outputs": [],
   "source": [
    "note_dict_df.to_csv('../results/full_minus_notes.csv')"
   ]
  },
  {
   "cell_type": "code",
   "execution_count": null,
   "metadata": {},
   "outputs": [],
   "source": []
  }
 ],
 "metadata": {
  "kernelspec": {
   "display_name": "Python 3",
   "language": "python",
   "name": "python3"
  },
  "language_info": {
   "codemirror_mode": {
    "name": "ipython",
    "version": 3
   },
   "file_extension": ".py",
   "mimetype": "text/x-python",
   "name": "python",
   "nbconvert_exporter": "python",
   "pygments_lexer": "ipython3",
   "version": "3.7.3"
  }
 },
 "nbformat": 4,
 "nbformat_minor": 4
}
